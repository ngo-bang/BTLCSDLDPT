{
 "cells": [
  {
   "cell_type": "code",
   "execution_count": 62,
   "metadata": {},
   "outputs": [],
   "source": [
    "import cv2\n",
    "import matplotlib.pyplot as plt\n",
    "import skimage\n",
    "\n",
    "image = cv2.imread(\"data CSDLDPT\\child-1.png\",0)\n",
    "image2 = cv2.imread(\"data CSDLDPT\\child-2.png\",0)"
   ]
  },
  {
   "cell_type": "code",
   "execution_count": 63,
   "metadata": {},
   "outputs": [],
   "source": [
    "import skimage.feature\n",
    "def crop_face(image):\n",
    "    face_cascade = cv2.CascadeClassifier('haarcascade_frontalface_alt.xml')\n",
    "    faces = face_cascade.detectMultiScale(image, 1.1, 4)\n",
    "    for (x,y,w,h) in faces:\n",
    "        crop=image[y:y+h,x:x+w]\n",
    "    return crop\n",
    "\n",
    "def grayscale_histogram_embedding(image):\n",
    "    hist=cv2.calcHist([image],[0],None,[16],[0,256])\n",
    "    vec=hist.flatten()\n",
    "    vec=vec/(image.shape[0]*image.shape[1])\n",
    "    return vec\n",
    "\n",
    "def grayscale_histogram_differences(image,image2):\n",
    "    vec1=grayscale_histogram_embedding(image)\n",
    "    vec2=grayscale_histogram_embedding(image2)\n",
    "    diff=sum(abs(vec1-vec2))\n",
    "    return diff\n",
    "\n",
    "def hog(img):\n",
    "    return skimage.feature.hog(img, orientations=9, pixels_per_cell=(8, 8),\n",
    "                cells_per_block=(2, 2), transform_sqrt=True, block_norm=\"L2\")\n",
    "    \n",
    "def distance(x,y):\n",
    "    if (len(x) != len(y)):\n",
    "        return None\n",
    "    sq=0\n",
    "    for i in range(len(x)):\n",
    "        sq += (x[i] - y[i]) * (x[i] - y[i])\n",
    "    return sq ** 0.5"
   ]
  }
 ],
 "metadata": {
  "kernelspec": {
   "display_name": "Python 3",
   "language": "python",
   "name": "python3"
  },
  "language_info": {
   "codemirror_mode": {
    "name": "ipython",
    "version": 3
   },
   "file_extension": ".py",
   "mimetype": "text/x-python",
   "name": "python",
   "nbconvert_exporter": "python",
   "pygments_lexer": "ipython3",
   "version": "3.11.4"
  }
 },
 "nbformat": 4,
 "nbformat_minor": 2
}
